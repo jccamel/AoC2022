{
 "cells": [
  {
   "cell_type": "markdown",
   "metadata": {},
   "source": [
    "# --- Day 11: Monkey in the Middle ---"
   ]
  },
  {
   "cell_type": "code",
   "execution_count": 1,
   "metadata": {},
   "outputs": [],
   "source": [
    "class Monkey:\n",
    "    \n",
    "    def __init__(self, items: list, testvalue: int, tosend: list, operator: str=None, operval: int=None):\n",
    "        self.start_items = items\n",
    "        self.operator = operator\n",
    "        self.operation_value = operval\n",
    "        self.testvalue = testvalue\n",
    "        self.tosend = tosend\n",
    "        self.inspectedItems = 0\n",
    "    \n",
    "    def getNewValue(self, oldValue):\n",
    "        if self.operator:\n",
    "            if self.operator == '*':\n",
    "                return oldValue * self.operation_value\n",
    "            if self.operator == '+':\n",
    "                return oldValue + self.operation_value\n",
    "        else:\n",
    "            return oldValue * oldValue\n",
    "    \n",
    "    def sendItem(self, item):\n",
    "        if item % self.testvalue == 0:\n",
    "            return self.tosend[0]\n",
    "        else:\n",
    "            return self.tosend[1]\n",
    "    \n",
    "    def getItem(self, item):\n",
    "        self.start_items.append(item)\n",
    "\n",
    "Monkey0 = Monkey([78, 98], 23, [2, 3], '*', 19)\n",
    "Monkey1 = Monkey([54, 65, 75, 74], 19, [2, 0], '+', 6)\n",
    "Monkey2 = Monkey([79, 60, 97], 13, [1, 3])\n",
    "Monkey3 = Monkey([74], 17, [0, 1], '+', 3)\n",
    "\n",
    "monkey_list = [Monkey0, Monkey1, Monkey2, Monkey3]\n",
    "\n",
    "for _ in range(1, 21):\n",
    "    for monkey in monkey_list:\n",
    "        while monkey.start_items:\n",
    "            item = monkey.start_items.pop()\n",
    "            worry_level = monkey.getNewValue(item)\n",
    "            new_item = worry_level // 3\n",
    "            monkey_number_to_send = monkey.sendItem(new_item)\n",
    "            monkey_list[monkey_number_to_send].getItem(new_item)\n",
    "            monkey.inspectedItems += 1"
   ]
  }
 ],
 "metadata": {
  "kernelspec": {
   "display_name": "Python 3 (ipykernel)",
   "language": "python",
   "name": "python3"
  },
  "language_info": {
   "codemirror_mode": {
    "name": "ipython",
    "version": 3
   },
   "file_extension": ".py",
   "mimetype": "text/x-python",
   "name": "python",
   "nbconvert_exporter": "python",
   "pygments_lexer": "ipython3",
   "version": "3.10.6"
  }
 },
 "nbformat": 4,
 "nbformat_minor": 1
}
