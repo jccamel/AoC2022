{
 "cells": [
  {
   "cell_type": "code",
   "execution_count": null,
   "metadata": {},
   "outputs": [],
   "source": [
    "from random import randrange"
   ]
  },
  {
   "cell_type": "code",
   "execution_count": null,
   "metadata": {},
   "outputs": [],
   "source": [
    "bosque = []\n",
    "area = 5\n",
    "for filas in range(area):\n",
    "    arboles = []\n",
    "    for columnas in range(area):\n",
    "        arboles.append(randrange(10))\n",
    "    bosque.append(arboles)\n",
    "bosque"
   ]
  },
  {
   "cell_type": "code",
   "execution_count": null,
   "metadata": {},
   "outputs": [],
   "source": [
    "# Ejemplo del AoC\n",
    "area = 5\n",
    "bosque = [[3, 0, 3, 7, 3],\n",
    " [2, 5, 5, 1, 2],\n",
    " [6, 5, 3, 3, 2],\n",
    " [3, 3, 5, 4, 9],\n",
    " [3, 5, 3, 9, 0]]"
   ]
  },
  {
   "cell_type": "code",
   "execution_count": null,
   "metadata": {},
   "outputs": [],
   "source": [
    "def visible_ext(bosque):\n",
    "    return (len(bosque) * 2) + (len(bosque) - 2) * 2\n",
    "\n",
    "\n",
    "def arbol_visible(arbol, arbol2):\n",
    "    if arbol <= arbol2:\n",
    "        return False\n",
    "    return True\n",
    "\n",
    "def compare_up(f, c):\n",
    "    arbol = bosque[f][c]\n",
    "    visible = True\n",
    "    while f > 0 and visible:\n",
    "        f -= 1\n",
    "        visible = arbol_visible(arbol, bosque[f][c])\n",
    "    return visible\n",
    "\n",
    "def compare_down(f, c):\n",
    "    arbol = bosque[f][c]\n",
    "    visible = True\n",
    "    while f < area - 1 and visible:\n",
    "        f += 1\n",
    "        visible = arbol_visible(arbol, bosque[f][c])\n",
    "    return visible\n",
    "\n",
    "def compare_left(f, c):\n",
    "    arbol = bosque[f][c]\n",
    "    visible = True\n",
    "    while c > 0 and visible:\n",
    "        c -= 1\n",
    "        visible = arbol_visible(arbol, bosque[f][c])\n",
    "    return visible\n",
    "\n",
    "def compare_right(f, c):\n",
    "    arbol = bosque[f][c]\n",
    "    visible = True\n",
    "    while c < area - 1 and visible:\n",
    "        c += 1\n",
    "        visible = arbol_visible(arbol, bosque[f][c])\n",
    "    return visible"
   ]
  },
  {
   "cell_type": "code",
   "execution_count": null,
   "metadata": {},
   "outputs": [],
   "source": [
    "contador_visible = 0\n",
    "for fila in range(len(bosque) - 2):\n",
    "    for columna in range(len(bosque) - 2):\n",
    "        up = False\n",
    "        down = False\n",
    "        left = False\n",
    "        right = False\n",
    "        if compare_up(fila + 1, columna + 1):\n",
    "            print(f'{bosque[fila + 1][columna + 1]} visible from top')\n",
    "            up = True\n",
    "        if compare_down(fila + 1, columna + 1):\n",
    "            print(f'{bosque[fila + 1][columna + 1]} visible from down')\n",
    "            down = True\n",
    "        if compare_left(fila + 1, columna + 1):\n",
    "            print(f'{bosque[fila + 1][columna + 1]} visible from left')\n",
    "            left = True\n",
    "        if compare_right(fila + 1, columna + 1):\n",
    "            print(f'{bosque[fila + 1][columna + 1]} visible from right')\n",
    "            right = True\n",
    "        if up or down or left or right:\n",
    "            contador_visible += 1\n",
    "        print('-------------------------------------------------')\n",
    "contador_visible += visible_ext(bosque)\n",
    "contador_visible"
   ]
  }
 ],
 "metadata": {
  "kernelspec": {
   "display_name": "Python 3 (ipykernel)",
   "language": "python",
   "name": "python3"
  },
  "language_info": {
   "codemirror_mode": {
    "name": "ipython",
    "version": 3
   },
   "file_extension": ".py",
   "mimetype": "text/x-python",
   "name": "python",
   "nbconvert_exporter": "python",
   "pygments_lexer": "ipython3",
   "version": "3.10.6"
  }
 },
 "nbformat": 4,
 "nbformat_minor": 1
}
