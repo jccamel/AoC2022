{
 "cells": [
  {
   "cell_type": "markdown",
   "metadata": {
    "collapsed": true
   },
   "source": [
    "# --- Day 3: Rucksack Reorganization ---"
   ]
  },
  {
   "cell_type": "code",
   "execution_count": null,
   "metadata": {},
   "outputs": [],
   "source": [
    "rucksacks_input = \"\"\"\n",
    "vJrwpWtwJgWrhcsFMMfFFhFp\n",
    "jqHRNqRjqzjGDLGLrsFMfFZSrLrFZsSL\n",
    "PmmdzqPrVvPwwTWBwg\n",
    "wMqvLMZHhHMvwLHjbvcjnnSBnvTQFn\n",
    "ttgJtRGJQctTZtZT\n",
    "CrZsJsPPZsGzwwsLwLmpwMDw\n",
    "\"\"\"\n",
    "rucksacks = {}\n",
    "ruckssaks_counter = 1\n",
    "\n",
    "for row in rucksacks_input.strip().split():\n",
    "    compartments = []\n",
    "    items_x_compratment = len(row) // 2\n",
    "    compartments.append(row[:items_x_compratment])\n",
    "    compartments.append(row[items_x_compratment:])\n",
    "    rucksacks['rucsak' + str(ruckssaks_counter)] = compartments\n",
    "    ruckssaks_counter += 1\n",
    "\n",
    "priority_dict = {}\n",
    "priority = 1\n",
    "for i in range(97, 98+25):\n",
    "    priority_dict[chr(i)] = priority\n",
    "    priority += 1\n",
    "for i in range(65, 66+25):\n",
    "    priority_dict[chr(i)] = priority\n",
    "    priority += 1\n",
    "\n",
    "def sharedItems(compartments):\n",
    "    return set(compartments[0]) & set(compartments[1])\n",
    "\n",
    "sum = 0\n",
    "for k, v in rucksacks.items():\n",
    "    sum += priority_dict[sharedItems(v).pop()]\n",
    "\n",
    "print(sum)"
   ]
  }
 ],
 "metadata": {
  "kernelspec": {
   "display_name": "Python 3 (ipykernel)",
   "language": "python",
   "name": "python3"
  },
  "language_info": {
   "codemirror_mode": {
    "name": "ipython",
    "version": 3
   },
   "file_extension": ".py",
   "mimetype": "text/x-python",
   "name": "python",
   "nbconvert_exporter": "python",
   "pygments_lexer": "ipython3",
   "version": "3.10.6"
  }
 },
 "nbformat": 4,
 "nbformat_minor": 1
}
